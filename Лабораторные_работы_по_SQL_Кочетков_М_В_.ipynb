{
  "nbformat": 4,
  "nbformat_minor": 0,
  "metadata": {
    "colab": {
      "name": "Лабораторные работы по SQL Кочетков М.В.",
      "provenance": [],
      "collapsed_sections": [
        "-4QoEPeLnLpT",
        "IE5GDtJ8nSBb",
        "8KcaPLJnol3L",
        "s_XvrLHYosES",
        "uOkS97J_o4XU",
        "RJksYyOho-4z",
        "k1yXyg1npL9j",
        "GRlmxlnSwrzO",
        "mReG3P9qwyOe",
        "756AlhS-w2S8",
        "oop9B8F0w7nf",
        "x2zj3TAsxCuc",
        "14VwMWGlxGVE",
        "KOqgjJf2xJHc"
      ],
      "mount_file_id": "1gFXS5a6YQwGKVdIS_cHKPFtjK4O6y1k2",
      "authorship_tag": "ABX9TyNids/sBsKF2+DDvajTavwq",
      "include_colab_link": true
    },
    "kernelspec": {
      "name": "python3",
      "display_name": "Python 3"
    },
    "language_info": {
      "name": "python"
    }
  },
  "cells": [
    {
      "cell_type": "markdown",
      "metadata": {
        "id": "view-in-github",
        "colab_type": "text"
      },
      "source": [
        "<a href=\"https://colab.research.google.com/github/Skotmak/SQL_homeworks/blob/main/%D0%9B%D0%B0%D0%B1%D0%BE%D1%80%D0%B0%D1%82%D0%BE%D1%80%D0%BD%D1%8B%D0%B5_%D1%80%D0%B0%D0%B1%D0%BE%D1%82%D1%8B_%D0%BF%D0%BE_SQL_%D0%9A%D0%BE%D1%87%D0%B5%D1%82%D0%BA%D0%BE%D0%B2_%D0%9C_%D0%92_.ipynb\" target=\"_parent\"><img src=\"https://colab.research.google.com/assets/colab-badge.svg\" alt=\"Open In Colab\"/></a>"
      ]
    },
    {
      "cell_type": "markdown",
      "source": [
        "# Задание 1"
      ],
      "metadata": {
        "id": "-4QoEPeLnLpT"
      }
    },
    {
      "cell_type": "markdown",
      "source": [
        "Ответ на вопрос:\n",
        "\n",
        "> `SELECT * FROM users`\n",
        "*   Выводит всё, что есть в данной бд\n",
        "\n",
        "> `SELECT rowid, * FROM users` \n",
        "*   Выводит всё, что есть в таблице, и в начале строки добавляет номер строки\n",
        "\n",
        "> `cur.execute(\"DROP TABLE users\") ` \n",
        "*   Команда выполняет удаление таблицы users\n"
      ],
      "metadata": {
        "id": "9Qqe6fcAne86"
      }
    },
    {
      "cell_type": "code",
      "execution_count": null,
      "metadata": {
        "colab": {
          "base_uri": "https://localhost:8080/"
        },
        "id": "WtUJpzlA4GSj",
        "outputId": "b9e2679d-227c-4b97-8599-b5316d59ccfd"
      },
      "outputs": [
        {
          "output_type": "stream",
          "name": "stdout",
          "text": [
            "База данных подключена к SQLite\n",
            "Запись успешно вставлена ​​в таблицу sqlitedb_developers  -1\n",
            "Соединение с SQLite закрыто\n"
          ]
        }
      ],
      "source": [
        "import sqlite3\n",
        "import traceback\n",
        "import sys\n",
        "\n",
        "try:\n",
        "    sql_con = sqlite3.connect('sqlite_python.db')\n",
        "    cursor = sql_con.cursor()\n",
        "    print(\"База данных подключена к SQLite\")\n",
        "    cur = sql_con.cursor()\n",
        "    cur.execute(\"\"\"CREATE TABLE IF NOT EXISTS users(\n",
        "      id INTEGER PRIMARY KEY AUTOINCREMENT NOT NULL,\n",
        "      sex INTEGER ,\n",
        "      name TEXT,\n",
        "      level INTEGER ,\n",
        "      score INTEGER ); \n",
        "   \"\"\")\n",
        "    sql_con.commit()\n",
        "\n",
        "    cur1 = sql_con.cursor()\n",
        "    cur1.execute(\"\"\"\n",
        "    INSERT INTO users (sex, name, level, score) VALUES (1, 'Алексей', 22, 1000);\n",
        "   \"\"\")\n",
        "    cur2 = sql_con.cursor()\n",
        "    cur2.execute(\"\"\"\n",
        "    INSERT INTO users (sex, name, level, score) VALUES (1, 'Миша', 19, 800);\n",
        "   \"\"\")\n",
        "    cur3 = sql_con.cursor()\n",
        "    cur3.execute(\"\"\"\n",
        "    INSERT INTO users (sex, name, level, score) VALUES (1, 'Федор', 26, 1100);\n",
        "   \"\"\")\n",
        "    cur4 = sql_con.cursor()\n",
        "    cur4.execute(\"\"\"\n",
        "    INSERT INTO users (sex, name, level, score) VALUES (2, 'Маша', 18, 1500);\n",
        "   \"\"\")\n",
        "    sql_con.commit()\n",
        "\n",
        "    print(\"Запись успешно вставлена ​​в таблицу sqlitedb_developers \", cursor.rowcount)\n",
        "    cursor.close()\n",
        "\n",
        "except sqlite3.Error as error:\n",
        "    print(\"Не удалось вставить данные в таблицу sqlite\")\n",
        "    print(\"Класс исключения: \", error.__class__)\n",
        "    print(\"Исключение\", error.args)\n",
        "    print(\"Печать подробноcтей исключения SQLite: \")\n",
        "    exc_type, exc_value, exc_tb = sys.exc_info()\n",
        "    print(traceback.format_exception(exc_type, exc_value, exc_tb))\n",
        "finally:\n",
        "    if (sql_con):\n",
        "        sql_con.close()\n",
        "        print(\"Соединение с SQLite закрыто\")"
      ]
    },
    {
      "cell_type": "code",
      "source": [
        "import sqlite3\n",
        "import traceback\n",
        "import sys\n",
        "\n",
        "try:\n",
        "    sql_con = sqlite3.connect('sqlite_python.db')\n",
        "    cursor = sql_con.cursor()\n",
        "    print(\"База данных подключена к SQLite\")\n",
        "    cur1 = sql_con.cursor()\n",
        "    for i in cur1.execute(\"\"\"SELECT * FROM users\"\"\"):\n",
        "      print(i)\n",
        "\n",
        "\n",
        "except sqlite3.Error as error:\n",
        "    print(\"Не удалось вставить данные в таблицу sqlite\")\n",
        "    print(\"Класс исключения: \", error.__class__)\n",
        "    print(\"Исключение\", error.args)\n",
        "    print(\"Печать подробноcтей исключения SQLite: \")\n",
        "    exc_type, exc_value, exc_tb = sys.exc_info()\n",
        "    print(traceback.format_exception(exc_type, exc_value, exc_tb))\n",
        "finally:\n",
        "    if (sql_con):\n",
        "        sql_con.close()\n",
        "        print(\"Соединение с SQLite закрыто\")"
      ],
      "metadata": {
        "colab": {
          "base_uri": "https://localhost:8080/"
        },
        "id": "wMaSBnefIdm9",
        "outputId": "e206ad46-1606-4dfa-a3b5-ef62fe4506fa"
      },
      "execution_count": null,
      "outputs": [
        {
          "output_type": "stream",
          "name": "stdout",
          "text": [
            "База данных подключена к SQLite\n",
            "(1, 1, 'Алексей', 22, 1000)\n",
            "(2, 1, 'Миша', 19, 800)\n",
            "(3, 1, 'Федор', 26, 1100)\n",
            "(4, 2, 'Маша', 18, 1500)\n",
            "Соединение с SQLite закрыто\n"
          ]
        }
      ]
    },
    {
      "cell_type": "code",
      "source": [
        "import sqlite3\n",
        "import traceback\n",
        "import sys\n",
        "\n",
        "try:\n",
        "    sql_con = sqlite3.connect('sqlite_python.db')\n",
        "    cur1 = sql_con.cursor()\n",
        "    print(\"База данных подключена к SQLite\")\n",
        "    for i in cur1.execute(\"\"\"SELECT rowid, * FROM users\"\"\"):\n",
        "      print(i)\n",
        "\n",
        "except sqlite3.Error as error:\n",
        "    print(\"Не удалось вставить данные в таблицу sqlite\")\n",
        "    print(\"Класс исключения: \", error.__class__)\n",
        "    print(\"Исключение\", error.args)\n",
        "    print(\"Печать подробноcтей исключения SQLite: \")\n",
        "    exc_type, exc_value, exc_tb = sys.exc_info()\n",
        "    print(traceback.format_exception(exc_type, exc_value, exc_tb))\n",
        "finally:\n",
        "    if (sql_con):\n",
        "        sql_con.close()\n",
        "        print(\"Соединение с SQLite закрыто\")"
      ],
      "metadata": {
        "colab": {
          "base_uri": "https://localhost:8080/"
        },
        "id": "rBH-BKMHIdb-",
        "outputId": "ee98fd39-4d35-43bb-bf0a-4afd7e44be40"
      },
      "execution_count": null,
      "outputs": [
        {
          "output_type": "stream",
          "name": "stdout",
          "text": [
            "База данных подключена к SQLite\n",
            "(1, 1, 1, 'Алексей', 22, 1000)\n",
            "(2, 2, 1, 'Миша', 19, 800)\n",
            "(3, 3, 1, 'Федор', 26, 1100)\n",
            "(4, 4, 2, 'Маша', 18, 1500)\n",
            "Соединение с SQLite закрыто\n"
          ]
        }
      ]
    },
    {
      "cell_type": "code",
      "source": [
        "import sqlite3\n",
        "import traceback\n",
        "import sys\n",
        "\n",
        "try:\n",
        "    sql_con = sqlite3.connect('sqlite_python.db')\n",
        "    cur = sql_con.cursor()\n",
        "    print(\"База данных подключена к SQLite\")\n",
        "    cur.execute(\"DROP TABLE users\")\n",
        "\n",
        "\n",
        "except sqlite3.Error as error:\n",
        "    print(\"Не удалось вставить данные в таблицу sqlite\")\n",
        "    print(\"Класс исключения: \", error.__class__)\n",
        "    print(\"Исключение\", error.args)\n",
        "    print(\"Печать подробноcтей исключения SQLite: \")\n",
        "    exc_type, exc_value, exc_tb = sys.exc_info()\n",
        "    print(traceback.format_exception(exc_type, exc_value, exc_tb))\n",
        "finally:\n",
        "    if (sql_con):\n",
        "        sql_con.close()\n",
        "        print(\"Соединение с SQLite закрыто\")"
      ],
      "metadata": {
        "colab": {
          "base_uri": "https://localhost:8080/"
        },
        "id": "yHZRg4UnIsNw",
        "outputId": "3e9afee7-91a3-426a-9230-7c9df6f90688"
      },
      "execution_count": null,
      "outputs": [
        {
          "output_type": "stream",
          "name": "stdout",
          "text": [
            "База данных подключена к SQLite\n",
            "Соединение с SQLite закрыто\n"
          ]
        }
      ]
    },
    {
      "cell_type": "markdown",
      "source": [
        "# Задание 2"
      ],
      "metadata": {
        "id": "IE5GDtJ8nSBb"
      }
    },
    {
      "cell_type": "code",
      "source": [
        "import sqlite3\n",
        "import traceback\n",
        "import sys\n",
        "\n",
        "try:\n",
        "    sql_con = sqlite3.connect('sqlite_python.db')\n",
        "    cur = sql_con.cursor()\n",
        "    print(\"База данных подключена к SQLite\")\n",
        "    cur.execute(\"\"\"CREATE TABLE IF NOT EXISTS users (\n",
        "    name TEXT NOT NULL,\n",
        "    sex INTEGER DEFAULT 1,\n",
        "    old INTEGER,\n",
        "    score INTEGER\n",
        "    )\"\"\")\n",
        "    cur.close()\n",
        "    cur2 = sql_con.cursor()\n",
        "    cur2.execute(\"\"\"INSERT INTO users (name, old, score) VALUES('Алексей', 18, 1000);\"\"\")\n",
        "    sql_con.commit()\n",
        "    cur2.close()\n",
        "    \n",
        "\n",
        "except sqlite3.Error as error:\n",
        "    print(\"Не удалось вставить данные в таблицу sqlite\")\n",
        "    print(\"Класс исключения: \", error.__class__)\n",
        "    print(\"Исключение\", error.args)\n",
        "    print(\"Печать подробноcтей исключения SQLite: \")\n",
        "    exc_type, exc_value, exc_tb = sys.exc_info()\n",
        "    print(traceback.format_exception(exc_type, exc_value, exc_tb))\n",
        "finally:\n",
        "    if (sql_con):\n",
        "        sql_con.close()\n",
        "        print(\"Соединение с SQLite закрыто\")"
      ],
      "metadata": {
        "colab": {
          "base_uri": "https://localhost:8080/"
        },
        "id": "LNdQA2IUAzNQ",
        "outputId": "2080287e-3cf5-4d6d-b896-3943340391ed"
      },
      "execution_count": null,
      "outputs": [
        {
          "output_type": "stream",
          "name": "stdout",
          "text": [
            "База данных подключена к SQLite\n",
            "Соединение с SQLite закрыто\n"
          ]
        }
      ]
    },
    {
      "cell_type": "markdown",
      "source": [
        "# Задание 3"
      ],
      "metadata": {
        "id": "8KcaPLJnol3L"
      }
    },
    {
      "cell_type": "markdown",
      "source": [
        "Ответ на вопрос: ранее мы указывали, когда создавали таблицу, что колонке \"sex\" мы всегда будем присваивать значение \"1\". Поэтому при добавлении записи можно не указывать данный столбец, если мы добавляем пользователей мужского пола"
      ],
      "metadata": {
        "id": "uCRMguvCBMcX"
      }
    },
    {
      "cell_type": "markdown",
      "source": [
        "# Задание 4"
      ],
      "metadata": {
        "id": "s_XvrLHYosES"
      }
    },
    {
      "cell_type": "code",
      "source": [
        "import sqlite3\n",
        "import traceback\n",
        "import sys\n",
        "\n",
        "try:\n",
        "    sql_con = sqlite3.connect('sqlite_python.db')\n",
        "    cur = sql_con.cursor()\n",
        "    print(\"База данных подключена к SQLite\")\n",
        "    cur.execute(\"\"\"CREATE TABLE IF NOT EXISTS users (\n",
        "    name TEXT NOT NULL,\n",
        "    sex INTEGER DEFAULT 1,\n",
        "    old INTEGER,\n",
        "    score INTEGER\n",
        "    )\"\"\")\n",
        "    cur.close()\n",
        "    cur2 = sql_con.cursor()\n",
        "    cur2.execute(\"\"\"INSERT INTO users VALUES('Михаил', 1, 19, 1000)\"\"\")\n",
        "    cur2.close()\n",
        "    cur3 = sql_con.cursor()\n",
        "    cur3.execute(\"\"\"INSERT INTO users (name, old, score) VALUES('Федор', 32, 200)\"\"\")\n",
        "    cur3.close()\n",
        "    \n",
        "    sql_con.commit()\n",
        "\n",
        "except sqlite3.Error as error:\n",
        "    print(\"Не удалось вставить данные в таблицу sqlite\")\n",
        "    print(\"Класс исключения: \", error.__class__)\n",
        "    print(\"Исключение\", error.args)\n",
        "    print(\"Печать подробноcтей исключения SQLite: \")\n",
        "    exc_type, exc_value, exc_tb = sys.exc_info()\n",
        "    print(traceback.format_exception(exc_type, exc_value, exc_tb))\n",
        "finally:\n",
        "    if (sql_con):\n",
        "        sql_con.close()\n",
        "        print(\"Соединение с SQLite закрыто\")"
      ],
      "metadata": {
        "colab": {
          "base_uri": "https://localhost:8080/"
        },
        "id": "TO0mOo1KBSE-",
        "outputId": "07ecbdbc-7ccd-4f52-d51d-ba3c090385cd"
      },
      "execution_count": null,
      "outputs": [
        {
          "output_type": "stream",
          "name": "stdout",
          "text": [
            "База данных подключена к SQLite\n",
            "Соединение с SQLite закрыто\n"
          ]
        }
      ]
    },
    {
      "cell_type": "markdown",
      "source": [
        "# Задание 5.1"
      ],
      "metadata": {
        "id": "uOkS97J_o4XU"
      }
    },
    {
      "cell_type": "markdown",
      "source": [
        "Ответ на вопрос: в первом случае мы делаем запрос на вывод определённых столбцов \"name, old, score\", а во втором мы выводим все столбцы"
      ],
      "metadata": {
        "id": "Y7Gr_IW9B2Ek"
      }
    },
    {
      "cell_type": "code",
      "source": [
        "import sqlite3\n",
        "import traceback\n",
        "import sys\n",
        "\n",
        "try:\n",
        "    sql_con = sqlite3.connect('sqlite_python.db')\n",
        "    cursor = sql_con.cursor()\n",
        "    print(\"База данных подключена к SQLite\")\n",
        "    cur1 = sql_con.cursor()\n",
        "    for i in cur1.execute(\"\"\"SELECT name, old, score FROM users\"\"\"):\n",
        "      print(i)\n",
        "\n",
        "\n",
        "except sqlite3.Error as error:\n",
        "    print(\"Не удалось вставить данные в таблицу sqlite\")\n",
        "    print(\"Класс исключения: \", error.__class__)\n",
        "    print(\"Исключение\", error.args)\n",
        "    print(\"Печать подробноcтей исключения SQLite: \")\n",
        "    exc_type, exc_value, exc_tb = sys.exc_info()\n",
        "    print(traceback.format_exception(exc_type, exc_value, exc_tb))\n",
        "finally:\n",
        "    if (sql_con):\n",
        "        sql_con.close()\n",
        "        print(\"Соединение с SQLite закрыто\")"
      ],
      "metadata": {
        "colab": {
          "base_uri": "https://localhost:8080/"
        },
        "id": "WWBp2sawB5M4",
        "outputId": "8a62b453-59a6-4c94-9c76-ccb58d3c7489"
      },
      "execution_count": null,
      "outputs": [
        {
          "output_type": "stream",
          "name": "stdout",
          "text": [
            "База данных подключена к SQLite\n",
            "('Алексей', 18, 1000)\n",
            "('Михаил', 19, 1000)\n",
            "('Федор', 32, 200)\n",
            "Соединение с SQLite закрыто\n"
          ]
        }
      ]
    },
    {
      "cell_type": "code",
      "source": [
        "import sqlite3\n",
        "import traceback\n",
        "import sys\n",
        "\n",
        "try:\n",
        "    sql_con = sqlite3.connect('sqlite_python.db')\n",
        "    cursor = sql_con.cursor()\n",
        "    print(\"База данных подключена к SQLite\")\n",
        "    cur1 = sql_con.cursor()\n",
        "    for i in cur1.execute(\"\"\"SELECT * FROM users\"\"\"):\n",
        "      print(i)\n",
        "\n",
        "\n",
        "except sqlite3.Error as error:\n",
        "    print(\"Не удалось вставить данные в таблицу sqlite\")\n",
        "    print(\"Класс исключения: \", error.__class__)\n",
        "    print(\"Исключение\", error.args)\n",
        "    print(\"Печать подробноcтей исключения SQLite: \")\n",
        "    exc_type, exc_value, exc_tb = sys.exc_info()\n",
        "    print(traceback.format_exception(exc_type, exc_value, exc_tb))\n",
        "finally:\n",
        "    if (sql_con):\n",
        "        sql_con.close()\n",
        "        print(\"Соединение с SQLite закрыто\")"
      ],
      "metadata": {
        "colab": {
          "base_uri": "https://localhost:8080/"
        },
        "id": "o2-LJSZ4cMFp",
        "outputId": "912e2d91-87ea-46d4-cf76-3a6497acd96c"
      },
      "execution_count": null,
      "outputs": [
        {
          "output_type": "stream",
          "name": "stdout",
          "text": [
            "База данных подключена к SQLite\n",
            "('Алексей', 1, 18, 1000)\n",
            "('Михаил', 1, 19, 1000)\n",
            "('Федор', 1, 32, 200)\n",
            "Соединение с SQLite закрыто\n"
          ]
        }
      ]
    },
    {
      "cell_type": "markdown",
      "source": [
        "# Задание 5.2"
      ],
      "metadata": {
        "id": "RJksYyOho-4z"
      }
    },
    {
      "cell_type": "markdown",
      "source": [
        "Ответ на вопрос:\n",
        "\n",
        "> `SELECT * FROM users WHERE score < 1000`\n",
        "*   Вывести все записи, где у записей колонка \"score\" имеет данные меньше 1000\n",
        "\n",
        "> `SELECT * FROM users WHERE score BETWEEN 500 AND 1000`\n",
        "*   Вывести все записи, где у записей колонка \"score\" имеет данные между 500 и 1000\n",
        "\n",
        "> `SELECT * FROM users WHERE old = 32`\n",
        "*   Вывести все записи, где у записей колонка \"old\" равна 32"
      ],
      "metadata": {
        "id": "07vlWHSVbpRC"
      }
    },
    {
      "cell_type": "code",
      "source": [
        "import sqlite3\n",
        "import traceback\n",
        "import sys\n",
        "\n",
        "try:\n",
        "    sql_con = sqlite3.connect('sqlite_python.db')\n",
        "    cursor = sql_con.cursor()\n",
        "    print(\"База данных подключена к SQLite\")\n",
        "    cur1 = sql_con.cursor()\n",
        "    for i in cur1.execute(\"\"\"SELECT * FROM users WHERE score < 1000\"\"\"):\n",
        "      print(i)\n",
        "\n",
        "\n",
        "except sqlite3.Error as error:\n",
        "    print(\"Не удалось вставить данные в таблицу sqlite\")\n",
        "    print(\"Класс исключения: \", error.__class__)\n",
        "    print(\"Исключение\", error.args)\n",
        "    print(\"Печать подробноcтей исключения SQLite: \")\n",
        "    exc_type, exc_value, exc_tb = sys.exc_info()\n",
        "    print(traceback.format_exception(exc_type, exc_value, exc_tb))\n",
        "finally:\n",
        "    if (sql_con):\n",
        "        sql_con.close()\n",
        "        print(\"Соединение с SQLite закрыто\")"
      ],
      "metadata": {
        "colab": {
          "base_uri": "https://localhost:8080/"
        },
        "id": "FV5BqwWVbxvg",
        "outputId": "fd887224-f2fa-4f27-c022-83181df975be"
      },
      "execution_count": null,
      "outputs": [
        {
          "output_type": "stream",
          "name": "stdout",
          "text": [
            "База данных подключена к SQLite\n",
            "('Федор', 1, 32, 200)\n",
            "Соединение с SQLite закрыто\n"
          ]
        }
      ]
    },
    {
      "cell_type": "code",
      "source": [
        "import sqlite3\n",
        "import traceback\n",
        "import sys\n",
        "\n",
        "try:\n",
        "    sql_con = sqlite3.connect('sqlite_python.db')\n",
        "    cursor = sql_con.cursor()\n",
        "    print(\"База данных подключена к SQLite\")\n",
        "    cur1 = sql_con.cursor()\n",
        "    for i in cur1.execute(\"\"\"SELECT * FROM users WHERE score BETWEEN 500 AND 1000\"\"\"):\n",
        "      print(i)\n",
        "\n",
        "\n",
        "except sqlite3.Error as error:\n",
        "    print(\"Не удалось вставить данные в таблицу sqlite\")\n",
        "    print(\"Класс исключения: \", error.__class__)\n",
        "    print(\"Исключение\", error.args)\n",
        "    print(\"Печать подробноcтей исключения SQLite: \")\n",
        "    exc_type, exc_value, exc_tb = sys.exc_info()\n",
        "    print(traceback.format_exception(exc_type, exc_value, exc_tb))\n",
        "finally:\n",
        "    if (sql_con):\n",
        "        sql_con.close()\n",
        "        print(\"Соединение с SQLite закрыто\")"
      ],
      "metadata": {
        "colab": {
          "base_uri": "https://localhost:8080/"
        },
        "id": "sLtGLdfRcy4x",
        "outputId": "68f2f304-bade-4cdc-81b6-22e00155e960"
      },
      "execution_count": null,
      "outputs": [
        {
          "output_type": "stream",
          "name": "stdout",
          "text": [
            "База данных подключена к SQLite\n",
            "('Алексей', 1, 18, 1000)\n",
            "('Михаил', 1, 19, 1000)\n",
            "Соединение с SQLite закрыто\n"
          ]
        }
      ]
    },
    {
      "cell_type": "code",
      "source": [
        "import sqlite3\n",
        "import traceback\n",
        "import sys\n",
        "\n",
        "try:\n",
        "    sql_con = sqlite3.connect('sqlite_python.db')\n",
        "    cursor = sql_con.cursor()\n",
        "    print(\"База данных подключена к SQLite\")\n",
        "    cur1 = sql_con.cursor()\n",
        "    for i in cur1.execute(\"\"\"SELECT * FROM users WHERE old = 32\"\"\"):\n",
        "      print(i)\n",
        "\n",
        "\n",
        "except sqlite3.Error as error:\n",
        "    print(\"Не удалось вставить данные в таблицу sqlite\")\n",
        "    print(\"Класс исключения: \", error.__class__)\n",
        "    print(\"Исключение\", error.args)\n",
        "    print(\"Печать подробноcтей исключения SQLite: \")\n",
        "    exc_type, exc_value, exc_tb = sys.exc_info()\n",
        "    print(traceback.format_exception(exc_type, exc_value, exc_tb))\n",
        "finally:\n",
        "    if (sql_con):\n",
        "        sql_con.close()\n",
        "        print(\"Соединение с SQLite закрыто\")"
      ],
      "metadata": {
        "colab": {
          "base_uri": "https://localhost:8080/"
        },
        "id": "kGKlK2Eecyri",
        "outputId": "e95f15e8-5145-4b19-d68d-543c9109d7c2"
      },
      "execution_count": null,
      "outputs": [
        {
          "output_type": "stream",
          "name": "stdout",
          "text": [
            "База данных подключена к SQLite\n",
            "('Федор', 1, 32, 200)\n",
            "Соединение с SQLite закрыто\n"
          ]
        }
      ]
    },
    {
      "cell_type": "markdown",
      "source": [
        "# Задание 5.3"
      ],
      "metadata": {
        "id": "k1yXyg1npL9j"
      }
    },
    {
      "cell_type": "markdown",
      "source": [
        "Ответ на вопрос:\n",
        "\n",
        "> `SELECT * FROM users WHERE old > 20 AND score < 1000`\n",
        "*   Вывести все записи, где у записей колонка \"old\" имеет данные больше 20 и колонка \"score\" имеет данные меньше 1000\n",
        "\n",
        "> `SELECT * FROM users WHERE old IN(19, 32) AND score < 1000`\n",
        "*   Вывести все записи, где у записей колонка \"old\" имеет данные \"19\" и \"32\" и колонка \"score\" имеет данные меньше 1000\n",
        "\n",
        "> `SELECT * FROM users WHERE old IN(19, 32) AND score > 300 OR sex = 1`\n",
        "*   Вывести все записи, где у записей колонка \"old\" имеет данные \"19\" и \"32\" и колонка \"score\" имеет данные больше 300 или колонка \"sex\" имеет данные равные 1\n",
        "\n",
        "> `SELECT * FROM users WHERE (old IN(19, 32) OR sex = 1) AND score > 300`\n",
        "*   Вывести все записи, где у записей (колонка \"old\" имеет данные \"19\" и \"32\" или колонка \"sex\" равна 1) и колонка \"score\" имеет данные больше 300. ***Первым выполняется то, что в скобках***\n"
      ],
      "metadata": {
        "id": "pZJEjcb-buXJ"
      }
    },
    {
      "cell_type": "code",
      "source": [
        "import sqlite3\n",
        "import traceback\n",
        "import sys\n",
        "\n",
        "try:\n",
        "    sql_con = sqlite3.connect('sqlite_python.db')\n",
        "    cursor = sql_con.cursor()\n",
        "    print(\"База данных подключена к SQLite\")\n",
        "    cur1 = sql_con.cursor()\n",
        "    for i in cur1.execute(\"\"\"SELECT * FROM users WHERE old > 20 AND score < 1000\"\"\"):\n",
        "      print(i)\n",
        "\n",
        "\n",
        "except sqlite3.Error as error:\n",
        "    print(\"Не удалось вставить данные в таблицу sqlite\")\n",
        "    print(\"Класс исключения: \", error.__class__)\n",
        "    print(\"Исключение\", error.args)\n",
        "    print(\"Печать подробноcтей исключения SQLite: \")\n",
        "    exc_type, exc_value, exc_tb = sys.exc_info()\n",
        "    print(traceback.format_exception(exc_type, exc_value, exc_tb))\n",
        "finally:\n",
        "    if (sql_con):\n",
        "        sql_con.close()\n",
        "        print(\"Соединение с SQLite закрыто\")"
      ],
      "metadata": {
        "colab": {
          "base_uri": "https://localhost:8080/"
        },
        "id": "RhUdDt3ib5to",
        "outputId": "603f911d-db37-4463-9fa0-4a0ccdc071ae"
      },
      "execution_count": null,
      "outputs": [
        {
          "output_type": "stream",
          "name": "stdout",
          "text": [
            "База данных подключена к SQLite\n",
            "('Федор', 1, 32, 200)\n",
            "Соединение с SQLite закрыто\n"
          ]
        }
      ]
    },
    {
      "cell_type": "code",
      "source": [
        "import sqlite3\n",
        "import traceback\n",
        "import sys\n",
        "\n",
        "try:\n",
        "    sql_con = sqlite3.connect('sqlite_python.db')\n",
        "    cursor = sql_con.cursor()\n",
        "    print(\"База данных подключена к SQLite\")\n",
        "    cur1 = sql_con.cursor()\n",
        "    for i in cur1.execute(\"\"\"SELECT * FROM users WHERE old IN(19, 32) AND score < 1000\"\"\"):\n",
        "      print(i)\n",
        "\n",
        "\n",
        "except sqlite3.Error as error:\n",
        "    print(\"Не удалось вставить данные в таблицу sqlite\")\n",
        "    print(\"Класс исключения: \", error.__class__)\n",
        "    print(\"Исключение\", error.args)\n",
        "    print(\"Печать подробноcтей исключения SQLite: \")\n",
        "    exc_type, exc_value, exc_tb = sys.exc_info()\n",
        "    print(traceback.format_exception(exc_type, exc_value, exc_tb))\n",
        "finally:\n",
        "    if (sql_con):\n",
        "        sql_con.close()\n",
        "        print(\"Соединение с SQLite закрыто\")"
      ],
      "metadata": {
        "colab": {
          "base_uri": "https://localhost:8080/"
        },
        "id": "-v1mtPo-gEER",
        "outputId": "6bb84560-f413-400e-9e65-20ea90eb928e"
      },
      "execution_count": null,
      "outputs": [
        {
          "output_type": "stream",
          "name": "stdout",
          "text": [
            "База данных подключена к SQLite\n",
            "('Федор', 1, 32, 200)\n",
            "Соединение с SQLite закрыто\n"
          ]
        }
      ]
    },
    {
      "cell_type": "code",
      "source": [
        "import sqlite3\n",
        "import traceback\n",
        "import sys\n",
        "\n",
        "try:\n",
        "    sql_con = sqlite3.connect('sqlite_python.db')\n",
        "    cursor = sql_con.cursor()\n",
        "    print(\"База данных подключена к SQLite\")\n",
        "    cur1 = sql_con.cursor()\n",
        "    for i in cur1.execute(\"\"\"SELECT * FROM users WHERE old IN(19, 32) AND score > 300 OR sex = 1\"\"\"):\n",
        "      print(i)\n",
        "\n",
        "\n",
        "except sqlite3.Error as error:\n",
        "    print(\"Не удалось вставить данные в таблицу sqlite\")\n",
        "    print(\"Класс исключения: \", error.__class__)\n",
        "    print(\"Исключение\", error.args)\n",
        "    print(\"Печать подробноcтей исключения SQLite: \")\n",
        "    exc_type, exc_value, exc_tb = sys.exc_info()\n",
        "    print(traceback.format_exception(exc_type, exc_value, exc_tb))\n",
        "finally:\n",
        "    if (sql_con):\n",
        "        sql_con.close()\n",
        "        print(\"Соединение с SQLite закрыто\")"
      ],
      "metadata": {
        "colab": {
          "base_uri": "https://localhost:8080/"
        },
        "id": "1U0igJUBgD7C",
        "outputId": "345105d8-3fe2-4e31-836b-a155f1a769dd"
      },
      "execution_count": null,
      "outputs": [
        {
          "output_type": "stream",
          "name": "stdout",
          "text": [
            "База данных подключена к SQLite\n",
            "('Алексей', 1, 18, 1000)\n",
            "('Михаил', 1, 19, 1000)\n",
            "('Федор', 1, 32, 200)\n",
            "Соединение с SQLite закрыто\n"
          ]
        }
      ]
    },
    {
      "cell_type": "code",
      "source": [
        "import sqlite3\n",
        "import traceback\n",
        "import sys\n",
        "\n",
        "try:\n",
        "    sql_con = sqlite3.connect('sqlite_python.db')\n",
        "    cursor = sql_con.cursor()\n",
        "    print(\"База данных подключена к SQLite\")\n",
        "    cur1 = sql_con.cursor()\n",
        "    for i in cur1.execute(\"\"\"SELECT * FROM users WHERE (old IN(19, 32) OR sex = 1) AND score > 300\"\"\"):\n",
        "      print(i)\n",
        "\n",
        "\n",
        "except sqlite3.Error as error:\n",
        "    print(\"Не удалось вставить данные в таблицу sqlite\")\n",
        "    print(\"Класс исключения: \", error.__class__)\n",
        "    print(\"Исключение\", error.args)\n",
        "    print(\"Печать подробноcтей исключения SQLite: \")\n",
        "    exc_type, exc_value, exc_tb = sys.exc_info()\n",
        "    print(traceback.format_exception(exc_type, exc_value, exc_tb))\n",
        "finally:\n",
        "    if (sql_con):\n",
        "        sql_con.close()\n",
        "        print(\"Соединение с SQLite закрыто\")"
      ],
      "metadata": {
        "colab": {
          "base_uri": "https://localhost:8080/"
        },
        "id": "jjadZegLgDyB",
        "outputId": "c97aacab-9b37-47e4-9c14-1ec672c66a58"
      },
      "execution_count": null,
      "outputs": [
        {
          "output_type": "stream",
          "name": "stdout",
          "text": [
            "База данных подключена к SQLite\n",
            "('Алексей', 1, 18, 1000)\n",
            "('Михаил', 1, 19, 1000)\n",
            "Соединение с SQLite закрыто\n"
          ]
        }
      ]
    },
    {
      "cell_type": "markdown",
      "source": [
        "# Задание  6"
      ],
      "metadata": {
        "id": "GRlmxlnSwrzO"
      }
    },
    {
      "cell_type": "markdown",
      "source": [
        "Ответ на вопрос:\n",
        "\n",
        "> `SELECT * FROM users WHERE score < 1000 ORDER BY old`\n",
        "*   Вывести все записи, где у записей колонка \"score\" меньше 1000 и сортирует это всё по возрастанию (по умолчанию это ASC)\n",
        "\n",
        "> `SELECT * FROM users WHERE score < 1000 ORDER BY old DESC`\n",
        "*   Вывести все записи, где у записей колонка \"score\" меньше 1000 и сортирует это всё по убыванию"
      ],
      "metadata": {
        "id": "xuF2WHJ4B7dh"
      }
    },
    {
      "cell_type": "code",
      "source": [
        "import sqlite3\n",
        "import traceback\n",
        "import sys\n",
        "\n",
        "try:\n",
        "    sql_con = sqlite3.connect('sqlite_python.db')\n",
        "    cursor = sql_con.cursor()\n",
        "    print(\"База данных подключена к SQLite\")\n",
        "    cur1 = sql_con.cursor()\n",
        "    for i in cur1.execute(\"\"\"SELECT * FROM users WHERE score < 1000 ORDER BY old\"\"\"):\n",
        "      print(i)\n",
        "\n",
        "\n",
        "except sqlite3.Error as error:\n",
        "    print(\"Не удалось вставить данные в таблицу sqlite\")\n",
        "    print(\"Класс исключения: \", error.__class__)\n",
        "    print(\"Исключение\", error.args)\n",
        "    print(\"Печать подробноcтей исключения SQLite: \")\n",
        "    exc_type, exc_value, exc_tb = sys.exc_info()\n",
        "    print(traceback.format_exception(exc_type, exc_value, exc_tb))\n",
        "finally:\n",
        "    if (sql_con):\n",
        "        sql_con.close()\n",
        "        print(\"Соединение с SQLite закрыто\")"
      ],
      "metadata": {
        "colab": {
          "base_uri": "https://localhost:8080/"
        },
        "id": "gqWcQVGnB8pB",
        "outputId": "4dca2dd4-3fb5-4bfe-de2b-76fa98af9e3f"
      },
      "execution_count": null,
      "outputs": [
        {
          "output_type": "stream",
          "name": "stdout",
          "text": [
            "База данных подключена к SQLite\n",
            "('Федор', 1, 32, 200)\n",
            "Соединение с SQLite закрыто\n"
          ]
        }
      ]
    },
    {
      "cell_type": "code",
      "source": [
        "import sqlite3\n",
        "import traceback\n",
        "import sys\n",
        "\n",
        "try:\n",
        "    sql_con = sqlite3.connect('sqlite_python.db')\n",
        "    cursor = sql_con.cursor()\n",
        "    print(\"База данных подключена к SQLite\")\n",
        "    cur1 = sql_con.cursor()\n",
        "    for i in cur1.execute(\"\"\"SELECT * FROM users WHERE score < 1000 ORDER BY old DESC\"\"\"):\n",
        "      print(i)\n",
        "\n",
        "\n",
        "except sqlite3.Error as error:\n",
        "    print(\"Не удалось вставить данные в таблицу sqlite\")\n",
        "    print(\"Класс исключения: \", error.__class__)\n",
        "    print(\"Исключение\", error.args)\n",
        "    print(\"Печать подробноcтей исключения SQLite: \")\n",
        "    exc_type, exc_value, exc_tb = sys.exc_info()\n",
        "    print(traceback.format_exception(exc_type, exc_value, exc_tb))\n",
        "finally:\n",
        "    if (sql_con):\n",
        "        sql_con.close()\n",
        "        print(\"Соединение с SQLite закрыто\")"
      ],
      "metadata": {
        "colab": {
          "base_uri": "https://localhost:8080/"
        },
        "id": "psBrQP-Vi17T",
        "outputId": "79431e4e-a57c-4f75-bf9a-41d020945dca"
      },
      "execution_count": null,
      "outputs": [
        {
          "output_type": "stream",
          "name": "stdout",
          "text": [
            "База данных подключена к SQLite\n",
            "('Федор', 1, 32, 200)\n",
            "Соединение с SQLite закрыто\n"
          ]
        }
      ]
    },
    {
      "cell_type": "markdown",
      "source": [
        "# Задание 7"
      ],
      "metadata": {
        "id": "mReG3P9qwyOe"
      }
    },
    {
      "cell_type": "code",
      "source": [
        "import sqlite3\n",
        "import traceback\n",
        "import sys\n",
        "\n",
        "try:\n",
        "    sql_con = sqlite3.connect('sqlite_python.db')\n",
        "    cursor = sql_con.cursor()\n",
        "    print(\"База данных подключена к SQLite\")\n",
        "\n",
        "    cur1 = sql_con.cursor()\n",
        "    cur1.execute(\"\"\"\n",
        "    INSERT INTO users (sex, name, old, score) VALUES (2, 'Мария', 18, 400);\n",
        "   \"\"\")\n",
        "    cur2 = sql_con.cursor()\n",
        "    cur2.execute(\"\"\"\n",
        "    INSERT INTO users (sex, name, old, score) VALUES (1, 'Сергей', 33, 2000);\n",
        "   \"\"\")\n",
        "    cur3 = sql_con.cursor()\n",
        "    cur3.execute(\"\"\"\n",
        "    INSERT INTO users (sex, name, old, score) VALUES (1, 'Владимир', 43, 100);\n",
        "   \"\"\")\n",
        "    cur4 = sql_con.cursor()\n",
        "    cur4.execute(\"\"\"\n",
        "    INSERT INTO users (sex, name, old, score) VALUES (2, 'Елена', 18, 1500);\n",
        "   \"\"\")\n",
        "    cur5 = sql_con.cursor()\n",
        "    cur5.execute(\"\"\"\n",
        "    INSERT INTO users (sex, name, old, score) VALUES (2, 'Юля', 23, 700);\n",
        "   \"\"\")\n",
        "    sql_con.commit()\n",
        "\n",
        "\n",
        "    print(\"Запись успешно вставлена ​​в таблицу sqlitedb_developers \", cursor.rowcount)\n",
        "    cursor.close()\n",
        "\n",
        "except sqlite3.Error as error:\n",
        "    print(\"Не удалось вставить данные в таблицу sqlite\")\n",
        "    print(\"Класс исключения: \", error.__class__)\n",
        "    print(\"Исключение\", error.args)\n",
        "    print(\"Печать подробноcтей исключения SQLite: \")\n",
        "    exc_type, exc_value, exc_tb = sys.exc_info()\n",
        "    print(traceback.format_exception(exc_type, exc_value, exc_tb))\n",
        "finally:\n",
        "    if (sql_con):\n",
        "        sql_con.close()\n",
        "        print(\"Соединение с SQLite закрыто\")\n"
      ],
      "metadata": {
        "id": "_RXCTGpcB-YS",
        "colab": {
          "base_uri": "https://localhost:8080/"
        },
        "outputId": "25aef4a0-28da-418f-b7c2-92dccf584fef"
      },
      "execution_count": null,
      "outputs": [
        {
          "output_type": "stream",
          "name": "stdout",
          "text": [
            "База данных подключена к SQLite\n",
            "Запись успешно вставлена ​​в таблицу sqlitedb_developers  -1\n",
            "Соединение с SQLite закрыто\n"
          ]
        }
      ]
    },
    {
      "cell_type": "code",
      "source": [
        "import sqlite3\n",
        "import traceback\n",
        "import sys\n",
        "\n",
        "try:\n",
        "    sql_con = sqlite3.connect('sqlite_python.db')\n",
        "    cursor = sql_con.cursor()\n",
        "    print(\"База данных подключена к SQLite\")\n",
        "    cur1 = sql_con.cursor()\n",
        "    for i in cur1.execute(\"\"\"SELECT * FROM users WHERE score > 100 ORDER BY score DESC LIMIT 5\"\"\"):\n",
        "      print(i)\n",
        "    cur1.close() \n",
        "    cursor.close()\n",
        "\n",
        "except sqlite3.Error as error:\n",
        "    print(\"Не удалось вставить данные в таблицу sqlite\")\n",
        "    print(\"Класс исключения: \", error.__class__)\n",
        "    print(\"Исключение\", error.args)\n",
        "    print(\"Печать подробноcтей исключения SQLite: \")\n",
        "    exc_type, exc_value, exc_tb = sys.exc_info()\n",
        "    print(traceback.format_exception(exc_type, exc_value, exc_tb))\n",
        "finally:\n",
        "    if (sql_con):\n",
        "        sql_con.close()\n",
        "        print(\"Соединение с SQLite закрыто\")"
      ],
      "metadata": {
        "colab": {
          "base_uri": "https://localhost:8080/"
        },
        "id": "jE9_7K4b-bgD",
        "outputId": "c488d9e8-e4ca-4cf4-af20-55aeec3f7c40"
      },
      "execution_count": 4,
      "outputs": [
        {
          "output_type": "stream",
          "name": "stdout",
          "text": [
            "База данных подключена к SQLite\n",
            "('Сергей', 1, 33, 2000)\n",
            "('Елена', 2, 18, 1500)\n",
            "('Алексей', 1, 18, 1000)\n",
            "('Михаил', 1, 19, 1000)\n",
            "('Юля', 2, 23, 700)\n",
            "Соединение с SQLite закрыто\n"
          ]
        }
      ]
    },
    {
      "cell_type": "markdown",
      "source": [
        "Ответ на вопрос:\n",
        "\n",
        "> `SELECT * FROM users WHERE score > 100 ORDER BY score DESC LIMIT 5 OFFSET 2`\n",
        "*   Вывести все записи, где у записей колонка \"score\" имеет данные больше 100 сделать сортировку по убыванию, вывести только 5 записей и пропустить 2 записи\n",
        "\n",
        "> `SELECT * FROM users WHERE score > 100 ORDER BY score DESC LIMIT 2`\n",
        "*   Вывести все записи, где у записей колонка \"score\" имеет данные больше 100 сделать сортировку по убыванию, вывести только 2 записи "
      ],
      "metadata": {
        "id": "NhvhFn-E_la3"
      }
    },
    {
      "cell_type": "code",
      "source": [
        "import sqlite3\n",
        "import traceback\n",
        "import sys\n",
        "\n",
        "try:\n",
        "    sql_con = sqlite3.connect('sqlite_python.db')\n",
        "    cursor = sql_con.cursor()\n",
        "    print(\"База данных подключена к SQLite\")\n",
        "    cur1 = sql_con.cursor()\n",
        "    for i in cur1.execute(\"\"\"SELECT * FROM users WHERE score > 100 ORDER BY score DESC LIMIT 5 OFFSET 2\"\"\"):\n",
        "      print(i)\n",
        "    cur1.close() \n",
        "    cursor.close()\n",
        "\n",
        "except sqlite3.Error as error:\n",
        "    print(\"Не удалось вставить данные в таблицу sqlite\")\n",
        "    print(\"Класс исключения: \", error.__class__)\n",
        "    print(\"Исключение\", error.args)\n",
        "    print(\"Печать подробноcтей исключения SQLite: \")\n",
        "    exc_type, exc_value, exc_tb = sys.exc_info()\n",
        "    print(traceback.format_exception(exc_type, exc_value, exc_tb))\n",
        "finally:\n",
        "    if (sql_con):\n",
        "        sql_con.close()\n",
        "        print(\"Соединение с SQLite закрыто\")"
      ],
      "metadata": {
        "colab": {
          "base_uri": "https://localhost:8080/"
        },
        "id": "tRVLTu91_em4",
        "outputId": "346b6b7a-5309-4821-c08b-a5c967c6fdfc"
      },
      "execution_count": 9,
      "outputs": [
        {
          "output_type": "stream",
          "name": "stdout",
          "text": [
            "База данных подключена к SQLite\n",
            "('Алексей', 1, 18, 1000)\n",
            "('Михаил', 1, 19, 1000)\n",
            "('Юля', 2, 23, 700)\n",
            "('Мария', 2, 18, 400)\n",
            "('Федор', 1, 32, 200)\n",
            "Соединение с SQLite закрыто\n"
          ]
        }
      ]
    },
    {
      "cell_type": "code",
      "source": [
        "import sqlite3\n",
        "import traceback\n",
        "import sys\n",
        "\n",
        "try:\n",
        "    sql_con = sqlite3.connect('sqlite_python.db')\n",
        "    cursor = sql_con.cursor()\n",
        "    print(\"База данных подключена к SQLite\")\n",
        "    cur1 = sql_con.cursor()\n",
        "    for i in cur1.execute(\"\"\"SELECT * FROM users WHERE score > 100 ORDER BY score DESC LIMIT 2\"\"\"):\n",
        "      print(i)\n",
        "    cur1.close() \n",
        "    cursor.close()\n",
        "\n",
        "except sqlite3.Error as error:\n",
        "    print(\"Не удалось вставить данные в таблицу sqlite\")\n",
        "    print(\"Класс исключения: \", error.__class__)\n",
        "    print(\"Исключение\", error.args)\n",
        "    print(\"Печать подробноcтей исключения SQLite: \")\n",
        "    exc_type, exc_value, exc_tb = sys.exc_info()\n",
        "    print(traceback.format_exception(exc_type, exc_value, exc_tb))\n",
        "finally:\n",
        "    if (sql_con):\n",
        "        sql_con.close()\n",
        "        print(\"Соединение с SQLite закрыто\")"
      ],
      "metadata": {
        "colab": {
          "base_uri": "https://localhost:8080/"
        },
        "id": "Gpa_Ieiw_hSW",
        "outputId": "e50a4886-0c41-4324-def8-6b4e78624255"
      },
      "execution_count": 10,
      "outputs": [
        {
          "output_type": "stream",
          "name": "stdout",
          "text": [
            "База данных подключена к SQLite\n",
            "('Сергей', 1, 33, 2000)\n",
            "('Елена', 2, 18, 1500)\n",
            "Соединение с SQLite закрыто\n"
          ]
        }
      ]
    },
    {
      "cell_type": "markdown",
      "source": [
        "# Задание 8"
      ],
      "metadata": {
        "id": "756AlhS-w2S8"
      }
    },
    {
      "cell_type": "markdown",
      "source": [
        "Ответ на вопрос:\n",
        "\n",
        "> `UPDATE users SET score = 1000 WHERE rowid = 1`\n",
        "*   Изменить данные у строки 1 и сделать их \"score = 1000\" \n",
        "\n",
        "> `UPDATE users SET score = score+500 WHERE sex = 2`\n",
        "*   Изменить данные у строк, где колонка \"sex = 2\" и добавить к их значениям 500 \n",
        "\n",
        "> `UPDATE users SET score = 1500 WHERE name LIKE 'Федор'`\n",
        "*   Изменить данные у строк, у которых в колонке name есть 'Федор' и сделать их \"score = 1500\" \n",
        "\n",
        "> `UPDATE users SET score = score+100 WHERE name LIKE 'М%'`\n",
        "*   Изменить данные у строк, у которых в колонке name есть 'М%' (это регулярное выражение) и добавить к их значениям 100   \n",
        "\n",
        "> `UPDATE users SET score = score+100 WHERE name LIKE 'С_рг%'`\n",
        "*   Изменить данные у строк, у которых в колонке name есть 'С_рг%' (это регулярное выражение) и добавить к их значениям 100 "
      ],
      "metadata": {
        "id": "xSAppZvuHwA_"
      }
    },
    {
      "cell_type": "code",
      "source": [
        "import sqlite3\n",
        "import traceback\n",
        "import sys\n",
        "\n",
        "try:\n",
        "    sql_con = sqlite3.connect('sqlite_python.db')\n",
        "    cursor = sql_con.cursor()\n",
        "    print(\"База данных подключена к SQLite\")\n",
        "\n",
        "    cur1 = sql_con.cursor()\n",
        "    cur1.execute(\"\"\"\n",
        "    UPDATE users SET score = 1000 WHERE rowid = 1\n",
        "   \"\"\")\n",
        "    cur2 = sql_con.cursor()\n",
        "    cur2.execute(\"\"\"\n",
        "    UPDATE users SET score = score+500 WHERE sex = 2\n",
        "   \"\"\")\n",
        "    cur3 = sql_con.cursor()\n",
        "    cur3.execute(\"\"\"\n",
        "    UPDATE users SET score = 1500 WHERE name LIKE 'Федор'\n",
        "   \"\"\")\n",
        "    cur4 = sql_con.cursor()\n",
        "    cur4.execute(\"\"\"\n",
        "    UPDATE users SET score = score+100 WHERE name LIKE 'М%'\n",
        "   \"\"\")\n",
        "    cur5 = sql_con.cursor()\n",
        "    cur5.execute(\"\"\"\n",
        "    UPDATE users SET score = score+100 WHERE name LIKE 'С_рг%'\n",
        "   \"\"\")\n",
        "    sql_con.commit()\n",
        "\n",
        "\n",
        "    print(\"Запись успешно вставлена ​​в таблицу sqlitedb_developers \", cursor.rowcount)\n",
        "    cursor.close()\n",
        "\n",
        "except sqlite3.Error as error:\n",
        "    print(\"Не удалось вставить данные в таблицу sqlite\")\n",
        "    print(\"Класс исключения: \", error.__class__)\n",
        "    print(\"Исключение\", error.args)\n",
        "    print(\"Печать подробноcтей исключения SQLite: \")\n",
        "    exc_type, exc_value, exc_tb = sys.exc_info()\n",
        "    print(traceback.format_exception(exc_type, exc_value, exc_tb))\n",
        "finally:\n",
        "    if (sql_con):\n",
        "        sql_con.close()\n",
        "        print(\"Соединение с SQLite закрыто\")\n"
      ],
      "metadata": {
        "id": "yDgCpZq8B_1x",
        "colab": {
          "base_uri": "https://localhost:8080/"
        },
        "outputId": "32a8a0e7-0b9b-42d0-f083-ea52c9ddf8b9"
      },
      "execution_count": 11,
      "outputs": [
        {
          "output_type": "stream",
          "name": "stdout",
          "text": [
            "База данных подключена к SQLite\n",
            "Запись успешно вставлена ​​в таблицу sqlitedb_developers  -1\n",
            "Соединение с SQLite закрыто\n"
          ]
        }
      ]
    },
    {
      "cell_type": "markdown",
      "source": [
        "# Задание 9"
      ],
      "metadata": {
        "id": "oop9B8F0w7nf"
      }
    },
    {
      "cell_type": "markdown",
      "source": [
        "Ответ на вопрос:\n",
        "\n",
        "> `DELETE FROM users WHERE rowid IN(2, 5)`\n",
        "*   Удалить записи где rowid = 2 и 5 \n",
        "\n",
        "> `SELECT rowid, * FROM users`\n",
        "*   Выводит всё, что есть в таблице, и в начале строки добавляет номер строки \n",
        "\n",
        "> `INSERT INTO users VALUES('Даша', 2, 24, 1200)`\n",
        "*   Вставить данные в таблицу users  "
      ],
      "metadata": {
        "id": "0qTyMfjwPQb0"
      }
    },
    {
      "cell_type": "code",
      "source": [
        "import sqlite3\n",
        "import traceback\n",
        "import sys\n",
        "\n",
        "try:\n",
        "    sql_con = sqlite3.connect('sqlite_python.db')\n",
        "    cursor = sql_con.cursor()\n",
        "    print(\"База данных подключена к SQLite\")\n",
        "\n",
        "    cur1 = sql_con.cursor()\n",
        "    cur1.execute(\"\"\"\n",
        "    DELETE FROM users WHERE rowid IN(2, 5)\n",
        "   \"\"\")\n",
        "    cur2 = sql_con.cursor()\n",
        "    cur2.execute(\"\"\"\n",
        "    INSERT INTO users VALUES('Даша', 2, 24, 1200)\n",
        "   \"\"\")\n",
        "\n",
        "    sql_con.commit()\n",
        "\n",
        "\n",
        "    print(\"Запись успешно вставлена ​​в таблицу sqlitedb_developers \", cursor.rowcount)\n",
        "    cursor.close()\n",
        "\n",
        "except sqlite3.Error as error:\n",
        "    print(\"Не удалось вставить данные в таблицу sqlite\")\n",
        "    print(\"Класс исключения: \", error.__class__)\n",
        "    print(\"Исключение\", error.args)\n",
        "    print(\"Печать подробноcтей исключения SQLite: \")\n",
        "    exc_type, exc_value, exc_tb = sys.exc_info()\n",
        "    print(traceback.format_exception(exc_type, exc_value, exc_tb))\n",
        "finally:\n",
        "    if (sql_con):\n",
        "        sql_con.close()\n",
        "        print(\"Соединение с SQLite закрыто\")\n"
      ],
      "metadata": {
        "id": "FNTq9Ge7CEZ-",
        "colab": {
          "base_uri": "https://localhost:8080/"
        },
        "outputId": "351b088c-d0f6-4963-bbea-15546b56fe61"
      },
      "execution_count": 12,
      "outputs": [
        {
          "output_type": "stream",
          "name": "stdout",
          "text": [
            "База данных подключена к SQLite\n",
            "Запись успешно вставлена ​​в таблицу sqlitedb_developers  -1\n",
            "Соединение с SQLite закрыто\n"
          ]
        }
      ]
    },
    {
      "cell_type": "markdown",
      "source": [
        "# Задание 10"
      ],
      "metadata": {
        "id": "x2zj3TAsxCuc"
      }
    },
    {
      "cell_type": "code",
      "source": [
        "import sqlite3\n",
        "import traceback\n",
        "import sys\n",
        "\n",
        "try:\n",
        "    sql_con = sqlite3.connect('sqlite_python.db')\n",
        "    cursor = sql_con.cursor()\n",
        "    print(\"База данных подключена к SQLite\")\n",
        "    cur = sql_con.cursor()\n",
        "    cur.execute(\"\"\"CREATE TABLE IF NOT EXISTS games(\n",
        "      user_id INTEGER PRIMARY KEY AUTOINCREMENT NOT NULL,\n",
        "      time INTEGER ,\n",
        "      score INTEGER ); \n",
        "   \"\"\")\n",
        "    sql_con.commit()\n",
        "\n",
        "    cur1 = sql_con.cursor()\n",
        "    cur1.execute(\"\"\"\n",
        "    INSERT INTO games (time, score) VALUES (22, 1000);\n",
        "   \"\"\")\n",
        "    cur2 = sql_con.cursor()\n",
        "    cur2.execute(\"\"\"\n",
        "    INSERT INTO games (time, score) VALUES (19, 800);\n",
        "   \"\"\")\n",
        "    cur3 = sql_con.cursor()\n",
        "    cur3.execute(\"\"\"\n",
        "    INSERT INTO games (time, score) VALUES (26, 1100);\n",
        "   \"\"\")\n",
        "    cur4 = sql_con.cursor()\n",
        "    cur4.execute(\"\"\"\n",
        "    INSERT INTO games (time, score) VALUES (18, 1500);\n",
        "   \"\"\")\n",
        "    sql_con.commit()\n",
        "\n",
        "    print(\"Запись успешно вставлена ​​в таблицу sqlitedb_developers \", cursor.rowcount)\n",
        "    cursor.close()\n",
        "\n",
        "except sqlite3.Error as error:\n",
        "    print(\"Не удалось вставить данные в таблицу sqlite\")\n",
        "    print(\"Класс исключения: \", error.__class__)\n",
        "    print(\"Исключение\", error.args)\n",
        "    print(\"Печать подробноcтей исключения SQLite: \")\n",
        "    exc_type, exc_value, exc_tb = sys.exc_info()\n",
        "    print(traceback.format_exception(exc_type, exc_value, exc_tb))\n",
        "finally:\n",
        "    if (sql_con):\n",
        "        sql_con.close()\n",
        "        print(\"Соединение с SQLite закрыто\")"
      ],
      "metadata": {
        "id": "aTVpY8aRCGOr",
        "colab": {
          "base_uri": "https://localhost:8080/"
        },
        "outputId": "3d587b7e-640d-4787-c436-6976856b96e3"
      },
      "execution_count": 15,
      "outputs": [
        {
          "output_type": "stream",
          "name": "stdout",
          "text": [
            "База данных подключена к SQLite\n",
            "Запись успешно вставлена ​​в таблицу sqlitedb_developers  -1\n",
            "Соединение с SQLite закрыто\n"
          ]
        }
      ]
    },
    {
      "cell_type": "markdown",
      "source": [
        "# Задание 11"
      ],
      "metadata": {
        "id": "14VwMWGlxGVE"
      }
    },
    {
      "cell_type": "markdown",
      "source": [
        "Ответ на вопрос:\n",
        "\n",
        "> `SELECT count(user_id) FROM games WHERE user_id = 1`\n",
        "*   Вывести количество значений по колонке \"user_id\", где user_id = 1\n",
        "\n",
        "> `SELECT count() as count FROM games WHERE user_id = 1`\n",
        "*   Вывести количество значений, где user_id = 1"
      ],
      "metadata": {
        "id": "h3chzqo0WHe8"
      }
    },
    {
      "cell_type": "code",
      "source": [
        "import sqlite3\n",
        "import traceback\n",
        "import sys\n",
        "\n",
        "try:\n",
        "    sql_con = sqlite3.connect('sqlite_python.db')\n",
        "    cursor = sql_con.cursor()\n",
        "    print(\"База данных подключена к SQLite\")\n",
        "    cur1 = sql_con.cursor()\n",
        "    for i in cur1.execute(\"\"\"SELECT count(user_id) FROM games WHERE user_id = 1\"\"\"):\n",
        "      print(i)\n",
        "\n",
        "    print(\"Запись успешно вставлена ​​в таблицу sqlitedb_developers \", cursor.rowcount)\n",
        "    cursor.close()\n",
        "\n",
        "except sqlite3.Error as error:\n",
        "    print(\"Не удалось вставить данные в таблицу sqlite\")\n",
        "    print(\"Класс исключения: \", error.__class__)\n",
        "    print(\"Исключение\", error.args)\n",
        "    print(\"Печать подробноcтей исключения SQLite: \")\n",
        "    exc_type, exc_value, exc_tb = sys.exc_info()\n",
        "    print(traceback.format_exception(exc_type, exc_value, exc_tb))\n",
        "finally:\n",
        "    if (sql_con):\n",
        "        sql_con.close()\n",
        "        print(\"Соединение с SQLite закрыто\")"
      ],
      "metadata": {
        "id": "LtPAebymCKVi",
        "colab": {
          "base_uri": "https://localhost:8080/"
        },
        "outputId": "b6fe23e3-731e-4ac3-988e-dfafa394812e"
      },
      "execution_count": 17,
      "outputs": [
        {
          "output_type": "stream",
          "name": "stdout",
          "text": [
            "База данных подключена к SQLite\n",
            "(1,)\n",
            "Запись успешно вставлена ​​в таблицу sqlitedb_developers  -1\n",
            "Соединение с SQLite закрыто\n"
          ]
        }
      ]
    },
    {
      "cell_type": "code",
      "source": [
        "import sqlite3\n",
        "import traceback\n",
        "import sys\n",
        "\n",
        "try:\n",
        "    sql_con = sqlite3.connect('sqlite_python.db')\n",
        "    cursor = sql_con.cursor()\n",
        "    print(\"База данных подключена к SQLite\")\n",
        "    cur1 = sql_con.cursor()\n",
        "    for i in cur1.execute(\"\"\"SELECT count() as count FROM games WHERE user_id = 1\"\"\"):\n",
        "      print(i)\n",
        "\n",
        "    print(\"Запись успешно вставлена ​​в таблицу sqlitedb_developers \", cursor.rowcount)\n",
        "    cursor.close()\n",
        "\n",
        "except sqlite3.Error as error:\n",
        "    print(\"Не удалось вставить данные в таблицу sqlite\")\n",
        "    print(\"Класс исключения: \", error.__class__)\n",
        "    print(\"Исключение\", error.args)\n",
        "    print(\"Печать подробноcтей исключения SQLite: \")\n",
        "    exc_type, exc_value, exc_tb = sys.exc_info()\n",
        "    print(traceback.format_exception(exc_type, exc_value, exc_tb))\n",
        "finally:\n",
        "    if (sql_con):\n",
        "        sql_con.close()\n",
        "        print(\"Соединение с SQLite закрыто\")"
      ],
      "metadata": {
        "colab": {
          "base_uri": "https://localhost:8080/"
        },
        "id": "GJdrwBmCWJIP",
        "outputId": "e05614cf-f55a-4bfc-c3fb-4bb1ac30a24a"
      },
      "execution_count": 18,
      "outputs": [
        {
          "output_type": "stream",
          "name": "stdout",
          "text": [
            "База данных подключена к SQLite\n",
            "(4,)\n",
            "Запись успешно вставлена ​​в таблицу sqlitedb_developers  -1\n",
            "Соединение с SQLite закрыто\n"
          ]
        }
      ]
    },
    {
      "cell_type": "markdown",
      "source": [
        "# Задание 12"
      ],
      "metadata": {
        "id": "KOqgjJf2xJHc"
      }
    },
    {
      "cell_type": "markdown",
      "source": [
        "Ответ на вопрос:\n",
        "\n",
        "> `SELECT DISTINCT user_id FROM games`\n",
        "*   Вывести уникальные записи по колонке \"user_id\"\n",
        "\n",
        "> `SELECT count(DISTINCT user_id) as count FROM games`\n",
        "*   Вывести количество уникальных значений по колонке \"user_id\" и назвать её \"count\"\n",
        "\n",
        "> `SELECT sum(score) as sum FROM games WHERE user_id = 1`\n",
        "*   Вывести сумму значений по колонке \"score\" и назвать её \"sum\", где \"user_id = 1\"\n",
        "\n",
        "> `SELECT max(score) FROM games WHERE user_id = 1`\n",
        "*   Вывести максимальное значение по колонке \"score\", где \"user_id = 1\"\n",
        "\n",
        "> `SELECT min(score) FROM games WHERE user_id = 1`\n",
        "*   Вывести минимальное значение по колонке \"score\", где \"user_id = 1\""
      ],
      "metadata": {
        "id": "OOgctwwEW5bs"
      }
    },
    {
      "cell_type": "code",
      "source": [
        "import sqlite3\n",
        "import traceback\n",
        "import sys\n",
        "\n",
        "try:\n",
        "    sql_con = sqlite3.connect('sqlite_python.db')\n",
        "    cursor = sql_con.cursor()\n",
        "    print(\"База данных подключена к SQLite\")\n",
        "    print(\"-------------------------\")\n",
        "    cur1 = sql_con.cursor()\n",
        "    for i in cur1.execute(\"\"\"SELECT DISTINCT user_id FROM games\"\"\"):\n",
        "      print(i)\n",
        "    print(\"-------------------------\")\n",
        "    cur2 = sql_con.cursor()\n",
        "    for i in cur2.execute(\"\"\"SELECT count(DISTINCT user_id) as count FROM games\"\"\"):\n",
        "      print(i)\n",
        "    print(\"-------------------------\")\n",
        "    cur3 = sql_con.cursor()\n",
        "    for i in cur3.execute(\"\"\"SELECT sum(score) as sum FROM games WHERE user_id = 1\"\"\"):\n",
        "      print(i)\n",
        "    print(\"-------------------------\")\n",
        "    cur4 = sql_con.cursor()\n",
        "    for i in cur4.execute(\"\"\"SELECT max(score) FROM games WHERE user_id = 1\"\"\"):\n",
        "      print(i)\n",
        "    print(\"-------------------------\")\n",
        "    cur5 = sql_con.cursor()\n",
        "    for i in cur5.execute(\"\"\"SELECT min(score) FROM games WHERE user_id = 1\"\"\"):\n",
        "      print(i)\n",
        "    print(\"-------------------------\")\n",
        "\n",
        "    print(\"Запись успешно вставлена ​​в таблицу sqlitedb_developers \", cursor.rowcount)\n",
        "    cursor.close()\n",
        "\n",
        "except sqlite3.Error as error:\n",
        "    print(\"Не удалось вставить данные в таблицу sqlite\")\n",
        "    print(\"Класс исключения: \", error.__class__)\n",
        "    print(\"Исключение\", error.args)\n",
        "    print(\"Печать подробноcтей исключения SQLite: \")\n",
        "    exc_type, exc_value, exc_tb = sys.exc_info()\n",
        "    print(traceback.format_exception(exc_type, exc_value, exc_tb))\n",
        "finally:\n",
        "    if (sql_con):\n",
        "        sql_con.close()\n",
        "        print(\"Соединение с SQLite закрыто\")"
      ],
      "metadata": {
        "id": "f7cjv2sTCN6P",
        "colab": {
          "base_uri": "https://localhost:8080/"
        },
        "outputId": "d7ded792-518e-424e-9607-56a2655640ef"
      },
      "execution_count": 20,
      "outputs": [
        {
          "output_type": "stream",
          "name": "stdout",
          "text": [
            "База данных подключена к SQLite\n",
            "-------------------------\n",
            "(1,)\n",
            "(2,)\n",
            "(3,)\n",
            "(4,)\n",
            "-------------------------\n",
            "(4,)\n",
            "-------------------------\n",
            "(1000,)\n",
            "-------------------------\n",
            "(1000,)\n",
            "-------------------------\n",
            "(1000,)\n",
            "-------------------------\n",
            "Запись успешно вставлена ​​в таблицу sqlitedb_developers  -1\n",
            "Соединение с SQLite закрыто\n"
          ]
        }
      ]
    },
    {
      "cell_type": "markdown",
      "source": [
        "# Задание 13"
      ],
      "metadata": {
        "id": "lcDnYMmkxLrc"
      }
    },
    {
      "cell_type": "markdown",
      "source": [
        "Ответ на вопрос:\n",
        "\n",
        "> `SELECT user_id, sum(score) as sum FROM games GROUP BY user_id`\n",
        "*   Вывести колонки \"user_id\", сумму значений по колонке \"score\" и назвать её \"sum\" и сгруппировать это всё по колонке \"user_id\""
      ],
      "metadata": {
        "id": "7nQfLqOxYzn7"
      }
    },
    {
      "cell_type": "code",
      "source": [
        "import sqlite3\n",
        "import traceback\n",
        "import sys\n",
        "\n",
        "try:\n",
        "    sql_con = sqlite3.connect('sqlite_python.db')\n",
        "    cursor = sql_con.cursor()\n",
        "    print(\"База данных подключена к SQLite\")\n",
        "    print(\"-------------------------\")\n",
        "    cur1 = sql_con.cursor()\n",
        "    for i in cur1.execute(\"\"\"SELECT user_id, sum(score) as sum FROM games GROUP BY user_id\"\"\"):\n",
        "      print(i)\n",
        "    print(\"-------------------------\")\n",
        "\n",
        "\n",
        "    print(\"Запись успешно вставлена ​​в таблицу sqlitedb_developers \", cursor.rowcount)\n",
        "    cursor.close()\n",
        "\n",
        "except sqlite3.Error as error:\n",
        "    print(\"Не удалось вставить данные в таблицу sqlite\")\n",
        "    print(\"Класс исключения: \", error.__class__)\n",
        "    print(\"Исключение\", error.args)\n",
        "    print(\"Печать подробноcтей исключения SQLite: \")\n",
        "    exc_type, exc_value, exc_tb = sys.exc_info()\n",
        "    print(traceback.format_exception(exc_type, exc_value, exc_tb))\n",
        "finally:\n",
        "    if (sql_con):\n",
        "        sql_con.close()\n",
        "        print(\"Соединение с SQLite закрыто\")"
      ],
      "metadata": {
        "id": "HdCHad10CPcf",
        "colab": {
          "base_uri": "https://localhost:8080/"
        },
        "outputId": "89335c21-2b75-4d6f-9218-5d7e30888208"
      },
      "execution_count": 21,
      "outputs": [
        {
          "output_type": "stream",
          "name": "stdout",
          "text": [
            "База данных подключена к SQLite\n",
            "-------------------------\n",
            "(1, 1000)\n",
            "(2, 800)\n",
            "(3, 1100)\n",
            "(4, 1500)\n",
            "-------------------------\n",
            "Запись успешно вставлена ​​в таблицу sqlitedb_developers  -1\n",
            "Соединение с SQLite закрыто\n"
          ]
        }
      ]
    },
    {
      "cell_type": "markdown",
      "source": [
        "# Задание 14"
      ],
      "metadata": {
        "id": "5Y8XvGzmxTmV"
      }
    },
    {
      "cell_type": "markdown",
      "source": [
        "Ответ на вопрос:\n",
        "\n",
        "> `SELECT user_id, sum(score) as sum FROM games WHERE score > 300 GROUP BY user_id ORDER BY sum DESC`\n",
        "*   Вывести колонки \"user_id\", сумму значений по колонке \"score\" и назвать её \"sum\", где \"score > 300\", сгруппировать это всё по колонке \"user_id\" и отсортировать все значения по убыванию\n",
        "\n",
        "Отличается это всё от предыдущего запроса тем, что у нас здесь есть дополнительные параметры уточняющие запрос"
      ],
      "metadata": {
        "id": "qQIdfmxpZrbR"
      }
    },
    {
      "cell_type": "code",
      "source": [
        "import sqlite3\n",
        "import traceback\n",
        "import sys\n",
        "\n",
        "try:\n",
        "    sql_con = sqlite3.connect('sqlite_python.db')\n",
        "    cursor = sql_con.cursor()\n",
        "    print(\"База данных подключена к SQLite\")\n",
        "    print(\"-------------------------\")\n",
        "    cur1 = sql_con.cursor()\n",
        "    for i in cur1.execute(\"\"\"SELECT user_id, sum(score) as sum FROM games WHERE score > 300 GROUP BY user_id ORDER BY sum DESC\"\"\"):\n",
        "      print(i)\n",
        "    print(\"-------------------------\")\n",
        "\n",
        "\n",
        "    print(\"Запись успешно вставлена ​​в таблицу sqlitedb_developers \", cursor.rowcount)\n",
        "    cursor.close()\n",
        "\n",
        "except sqlite3.Error as error:\n",
        "    print(\"Не удалось вставить данные в таблицу sqlite\")\n",
        "    print(\"Класс исключения: \", error.__class__)\n",
        "    print(\"Исключение\", error.args)\n",
        "    print(\"Печать подробноcтей исключения SQLite: \")\n",
        "    exc_type, exc_value, exc_tb = sys.exc_info()\n",
        "    print(traceback.format_exception(exc_type, exc_value, exc_tb))\n",
        "finally:\n",
        "    if (sql_con):\n",
        "        sql_con.close()\n",
        "        print(\"Соединение с SQLite закрыто\")"
      ],
      "metadata": {
        "id": "0knN2arICQvg",
        "colab": {
          "base_uri": "https://localhost:8080/"
        },
        "outputId": "14e14ad2-c92b-4a8b-a8b8-73e8c8970de8"
      },
      "execution_count": 22,
      "outputs": [
        {
          "output_type": "stream",
          "name": "stdout",
          "text": [
            "База данных подключена к SQLite\n",
            "-------------------------\n",
            "(4, 1500)\n",
            "(3, 1100)\n",
            "(1, 1000)\n",
            "(2, 800)\n",
            "-------------------------\n",
            "Запись успешно вставлена ​​в таблицу sqlitedb_developers  -1\n",
            "Соединение с SQLite закрыто\n"
          ]
        }
      ]
    },
    {
      "cell_type": "markdown",
      "source": [
        "# Задание 15"
      ],
      "metadata": {
        "id": "Vu01XvJjxVoU"
      }
    },
    {
      "cell_type": "markdown",
      "source": [
        "Ответ на вопрос: Изменится вывод. Будет выводиться только 1 запись"
      ],
      "metadata": {
        "id": "g2KYJB7ca66b"
      }
    },
    {
      "cell_type": "code",
      "source": [
        "import sqlite3\n",
        "import traceback\n",
        "import sys\n",
        "\n",
        "try:\n",
        "    sql_con = sqlite3.connect('sqlite_python.db')\n",
        "    cursor = sql_con.cursor()\n",
        "    print(\"База данных подключена к SQLite\")\n",
        "    print(\"-------------------------\")\n",
        "    cur1 = sql_con.cursor()\n",
        "    for i in cur1.execute(\"\"\"SELECT user_id, sum(score) as sum FROM games WHERE score > 300 GROUP BY user_id ORDER BY sum DESC LIMIT 1\"\"\"):\n",
        "      print(i)\n",
        "    print(\"-------------------------\")\n",
        "\n",
        "\n",
        "    print(\"Запись успешно вставлена ​​в таблицу sqlitedb_developers \", cursor.rowcount)\n",
        "    cursor.close()\n",
        "\n",
        "except sqlite3.Error as error:\n",
        "    print(\"Не удалось вставить данные в таблицу sqlite\")\n",
        "    print(\"Класс исключения: \", error.__class__)\n",
        "    print(\"Исключение\", error.args)\n",
        "    print(\"Печать подробноcтей исключения SQLite: \")\n",
        "    exc_type, exc_value, exc_tb = sys.exc_info()\n",
        "    print(traceback.format_exception(exc_type, exc_value, exc_tb))\n",
        "finally:\n",
        "    if (sql_con):\n",
        "        sql_con.close()\n",
        "        print(\"Соединение с SQLite закрыто\")"
      ],
      "metadata": {
        "colab": {
          "base_uri": "https://localhost:8080/"
        },
        "id": "iXdcXYHubEx9",
        "outputId": "9db391d7-cf46-4660-9b26-aa01a7390677"
      },
      "execution_count": 23,
      "outputs": [
        {
          "output_type": "stream",
          "name": "stdout",
          "text": [
            "База данных подключена к SQLite\n",
            "-------------------------\n",
            "(4, 1500)\n",
            "-------------------------\n",
            "Запись успешно вставлена ​​в таблицу sqlitedb_developers  -1\n",
            "Соединение с SQLite закрыто\n"
          ]
        }
      ]
    },
    {
      "cell_type": "markdown",
      "source": [
        "# Задание 16"
      ],
      "metadata": {
        "id": "z9b3rZiMxYu-"
      }
    },
    {
      "cell_type": "markdown",
      "source": [
        "Ответ на вопрос:\n",
        "\n",
        "> `SELECT name, sex, games.score FROM games JOIN users ON games.user_id = users.rowid`\n",
        "*   Вывести колонки \"name\", \"sex\", \"games.score\" используя метод **JOIN**"
      ],
      "metadata": {
        "id": "d3sgaOXybUul"
      }
    },
    {
      "cell_type": "code",
      "source": [
        "import sqlite3\n",
        "import traceback\n",
        "import sys\n",
        "\n",
        "try:\n",
        "    sql_con = sqlite3.connect('sqlite_python.db')\n",
        "    cursor = sql_con.cursor()\n",
        "    print(\"База данных подключена к SQLite\")\n",
        "    print(\"-------------------------\")\n",
        "    cur1 = sql_con.cursor()\n",
        "    for i in cur1.execute(\"\"\"SELECT name, sex, games.score FROM games JOIN users ON games.user_id = users.rowid\"\"\"):\n",
        "      print(i)\n",
        "    print(\"-------------------------\")\n",
        "\n",
        "\n",
        "    print(\"Запись успешно вставлена ​​в таблицу sqlitedb_developers \", cursor.rowcount)\n",
        "    cursor.close()\n",
        "\n",
        "except sqlite3.Error as error:\n",
        "    print(\"Не удалось вставить данные в таблицу sqlite\")\n",
        "    print(\"Класс исключения: \", error.__class__)\n",
        "    print(\"Исключение\", error.args)\n",
        "    print(\"Печать подробноcтей исключения SQLite: \")\n",
        "    exc_type, exc_value, exc_tb = sys.exc_info()\n",
        "    print(traceback.format_exception(exc_type, exc_value, exc_tb))\n",
        "finally:\n",
        "    if (sql_con):\n",
        "        sql_con.close()\n",
        "        print(\"Соединение с SQLite закрыто\")"
      ],
      "metadata": {
        "id": "8TDW2Sm2CXbb",
        "colab": {
          "base_uri": "https://localhost:8080/"
        },
        "outputId": "d0c9d993-4154-4baa-855d-6623caa3de8c"
      },
      "execution_count": 24,
      "outputs": [
        {
          "output_type": "stream",
          "name": "stdout",
          "text": [
            "База данных подключена к SQLite\n",
            "-------------------------\n",
            "('Алексей', 1, 1000)\n",
            "('Федор', 1, 1100)\n",
            "('Мария', 2, 1500)\n",
            "-------------------------\n",
            "Запись успешно вставлена ​​в таблицу sqlitedb_developers  -1\n",
            "Соединение с SQLite закрыто\n"
          ]
        }
      ]
    },
    {
      "cell_type": "markdown",
      "source": [
        "# Задание 17"
      ],
      "metadata": {
        "id": "pv2NF8kpxbp0"
      }
    },
    {
      "cell_type": "markdown",
      "source": [
        "Ответ на вопрос:\n",
        "\n",
        "> `SELECT name, sex, games.score FROM games JOIN users ON games.user_id = users.rowid`\n",
        "*   Вывести колонки \"name\", \"sex\", \"games.score\" используя метод **INNER JOIN**\n",
        "\n",
        "> `SELECT name, sex, games.score FROM games LEFT JOIN users ON games.user_id = users.rowid`\n",
        "*   Вывести колонки \"name\", \"sex\", \"games.score\" используя метод **LEFT JOIN**"
      ],
      "metadata": {
        "id": "lx08gwIiduJj"
      }
    },
    {
      "cell_type": "code",
      "source": [
        "import sqlite3\n",
        "import traceback\n",
        "import sys\n",
        "\n",
        "try:\n",
        "    sql_con = sqlite3.connect('sqlite_python.db')\n",
        "    cursor = sql_con.cursor()\n",
        "    print(\"База данных подключена к SQLite\")\n",
        "    print(\"-------------------------\")\n",
        "    cur1 = sql_con.cursor()\n",
        "    for i in cur1.execute(\"\"\"SELECT name, sex, games.score FROM games INNER JOIN users ON games.user_id = users.rowid\"\"\"):\n",
        "      print(i)\n",
        "    print(\"-------------------------\")\n",
        "    cur2 = sql_con.cursor()\n",
        "    for i in cur2.execute(\"\"\"SELECT name, sex, games.score FROM games LEFT JOIN users ON games.user_id = users.rowid\"\"\"):\n",
        "      print(i)\n",
        "    print(\"-------------------------\")\n",
        "\n",
        "\n",
        "    print(\"Запись успешно вставлена ​​в таблицу sqlitedb_developers \", cursor.rowcount)\n",
        "    cursor.close()\n",
        "\n",
        "except sqlite3.Error as error:\n",
        "    print(\"Не удалось вставить данные в таблицу sqlite\")\n",
        "    print(\"Класс исключения: \", error.__class__)\n",
        "    print(\"Исключение\", error.args)\n",
        "    print(\"Печать подробноcтей исключения SQLite: \")\n",
        "    exc_type, exc_value, exc_tb = sys.exc_info()\n",
        "    print(traceback.format_exception(exc_type, exc_value, exc_tb))\n",
        "finally:\n",
        "    if (sql_con):\n",
        "        sql_con.close()\n",
        "        print(\"Соединение с SQLite закрыто\")"
      ],
      "metadata": {
        "id": "ALQvslABCXX3",
        "colab": {
          "base_uri": "https://localhost:8080/"
        },
        "outputId": "71bb254a-922d-41bf-c884-93ed6bad3a12"
      },
      "execution_count": 26,
      "outputs": [
        {
          "output_type": "stream",
          "name": "stdout",
          "text": [
            "База данных подключена к SQLite\n",
            "-------------------------\n",
            "('Алексей', 1, 1000)\n",
            "('Федор', 1, 1100)\n",
            "('Мария', 2, 1500)\n",
            "-------------------------\n",
            "('Алексей', 1, 1000)\n",
            "(None, None, 800)\n",
            "('Федор', 1, 1100)\n",
            "('Мария', 2, 1500)\n",
            "-------------------------\n",
            "Запись успешно вставлена ​​в таблицу sqlitedb_developers  -1\n",
            "Соединение с SQLite закрыто\n"
          ]
        }
      ]
    },
    {
      "cell_type": "markdown",
      "source": [
        "# Задание 18"
      ],
      "metadata": {
        "id": "7NgbLCwOxeCd"
      }
    },
    {
      "cell_type": "code",
      "source": [
        "import sqlite3\n",
        "import traceback\n",
        "import sys\n",
        "\n",
        "try:\n",
        "    sql_con = sqlite3.connect('sqlite_python.db')\n",
        "    cursor = sql_con.cursor()\n",
        "    print(\"База данных подключена к SQLite\")\n",
        "    print(\"-------------------------\")\n",
        "    cur1 = sql_con.cursor()\n",
        "    for i in cur1.execute(\"\"\"\n",
        "    SELECT user_id, score FROM games\n",
        "    UNION \n",
        "    SELECT name, score FROM users\"\"\"):\n",
        "      print(i)\n",
        "    print(\"-------------------------\")\n",
        "\n",
        "\n",
        "    print(\"Запись успешно вставлена ​​в таблицу sqlitedb_developers \", cursor.rowcount)\n",
        "    cursor.close()\n",
        "\n",
        "except sqlite3.Error as error:\n",
        "    print(\"Не удалось вставить данные в таблицу sqlite\")\n",
        "    print(\"Класс исключения: \", error.__class__)\n",
        "    print(\"Исключение\", error.args)\n",
        "    print(\"Печать подробноcтей исключения SQLite: \")\n",
        "    exc_type, exc_value, exc_tb = sys.exc_info()\n",
        "    print(traceback.format_exception(exc_type, exc_value, exc_tb))\n",
        "finally:\n",
        "    if (sql_con):\n",
        "        sql_con.close()\n",
        "        print(\"Соединение с SQLite закрыто\")"
      ],
      "metadata": {
        "id": "ZQ3IywWqCa2C",
        "colab": {
          "base_uri": "https://localhost:8080/"
        },
        "outputId": "ef5a6173-bd5a-432e-eef2-ce06e643439e"
      },
      "execution_count": 35,
      "outputs": [
        {
          "output_type": "stream",
          "name": "stdout",
          "text": [
            "База данных подключена к SQLite\n",
            "-------------------------\n",
            "(1, 1000)\n",
            "(2, 800)\n",
            "(3, 1100)\n",
            "(4, 1500)\n",
            "('Алексей', 1000)\n",
            "('Владимир', 100)\n",
            "('Даша', 1200)\n",
            "('Елена', 2000)\n",
            "('Мария', 1000)\n",
            "('Федор', 1500)\n",
            "('Юля', 1200)\n",
            "-------------------------\n",
            "Запись успешно вставлена ​​в таблицу sqlitedb_developers  -1\n",
            "Соединение с SQLite закрыто\n"
          ]
        }
      ]
    }
  ]
}